{
 "cells": [
  {
   "cell_type": "code",
   "execution_count": 1,
   "source": [
    "from bs4 import BeautifulSoup\r\n",
    "\r\n",
    "with open(\"home.html\", \"r\") as html_file:\r\n",
    "    content = html_file.read()\r\n",
    "    #print(content)\r\n",
    "\r\n",
    "    soup = BeautifulSoup(content, \"lxml\")\r\n",
    "    print(soup.prettify())\r\n"
   ],
   "outputs": [
    {
     "output_type": "stream",
     "name": "stdout",
     "text": [
      "<!DOCTYPE html>\n",
      "<html lang=\"en\">\n",
      " <head>\n",
      "  <title>\n",
      "   Home\n",
      "  </title>\n",
      " </head>\n",
      " <body>\n",
      "  <h1>\n",
      "   Hello, I'm trying to do web scraping\n",
      "  </h1>\n",
      "  <div class=\"card\" id=\"card-python\">\n",
      "   <div class=\"class-header\">\n",
      "    Python\n",
      "   </div>\n",
      "   <div class=\"card-body\">\n",
      "    <h5 class=\"card-body\">\n",
      "     Python for beginner\n",
      "    </h5>\n",
      "    <p class=\"card-text\">\n",
      "     This is just great\n",
      "    </p>\n",
      "    <a class=\"btn btn-primary\" href=\"#\">\n",
      "     Start\n",
      "    </a>\n",
      "   </div>\n",
      "  </div>\n",
      "  <h1>\n",
      "   Hello\n",
      "  </h1>\n",
      "  <div class=\"card\" id=\"card-python\">\n",
      "   <div class=\"class-header\">\n",
      "    Python\n",
      "   </div>\n",
      "   <div class=\"card-body\">\n",
      "    <h5 class=\"card-body\">\n",
      "     Python for beginner\n",
      "    </h5>\n",
      "    <p class=\"card-text\">\n",
      "     This is just great\n",
      "    </p>\n",
      "    <a class=\"btn btn-primary\" href=\"#\">\n",
      "     Start\n",
      "    </a>\n",
      "   </div>\n",
      "  </div>\n",
      " </body>\n",
      "</html>\n"
     ]
    }
   ],
   "metadata": {}
  },
  {
   "cell_type": "code",
   "execution_count": 2,
   "source": [
    "tags = soup.find_all(\"h5\")\r\n",
    "print(tags)\r\n"
   ],
   "outputs": [
    {
     "output_type": "stream",
     "name": "stdout",
     "text": [
      "[<h5 class=\"card-body\">Python for beginner</h5>, <h5 class=\"card-body\">Python for beginner</h5>]\n"
     ]
    }
   ],
   "metadata": {}
  },
  {
   "cell_type": "code",
   "execution_count": 3,
   "source": [
    "course_card = soup.find_all(\"div\", class_=\"card\")\r\n",
    "for course in course_card:\r\n",
    "    course_name = course.h5.text\r\n",
    "    course_price = course\r\n",
    "    \r\n",
    "\r\n",
    "    print(course_name)\r\n",
    "    print(course_price)\r\n"
   ],
   "outputs": [
    {
     "output_type": "stream",
     "name": "stdout",
     "text": [
      "Python for beginner\n",
      "<div class=\"card\" id=\"card-python\">\n",
      "<div class=\"class-header\">\n",
      "                Python\n",
      "            </div>\n",
      "<div class=\"card-body\">\n",
      "<h5 class=\"card-body\">Python for beginner</h5>\n",
      "<p class=\"card-text\">This is just great </p>\n",
      "<a class=\"btn btn-primary\" href=\"#\">Start</a>\n",
      "</div>\n",
      "</div>\n",
      "Python for beginner\n",
      "<div class=\"card\" id=\"card-python\">\n",
      "<div class=\"class-header\">\n",
      "                Python\n",
      "            </div>\n",
      "<div class=\"card-body\">\n",
      "<h5 class=\"card-body\">Python for beginner</h5>\n",
      "<p class=\"card-text\">This is just great </p>\n",
      "<a class=\"btn btn-primary\" href=\"#\">Start</a>\n",
      "</div>\n",
      "</div>\n"
     ]
    }
   ],
   "metadata": {}
  },
  {
   "cell_type": "code",
   "execution_count": 9,
   "source": [
    "import requests\r\n",
    "from bs4 import BeautifulSoup\r\n",
    "\r\n",
    "html_text = requests.get(\"https://www.timesjobs.com/candidate/job-search.html?searchType=personalizedSearch&from=submit&txtKeywords=python&txtLocation=\")\r\n",
    "soup = BeautifulSoup(html_text.text, \"lxml\")\r\n",
    "jobs = soup.find(\"li\", class_ = \"clearfix job-bx wht-shd-bx\")\r\n",
    "company_name = jobs.find(\"h3\", class_ = \"joblist-comp-name\").text.replace(' ', '')\r\n",
    "skill = jobs.find(\"span\", class_ = \"srp-skills\")\r\n",
    "print(skill)\r\n",
    "print(company_name)\r\n",
    "\r\n",
    "#print(html_text.text) This is alternative using this with no soup"
   ],
   "outputs": [
    {
     "output_type": "stream",
     "name": "stdout",
     "text": [
      "<span class=\"srp-skills\">\n",
      "<strong class=\"blkclor\">python</strong>  ,  web technologies  ,  linux  ,  mobile  ,  mysql  ,  angularjs  ,  javascript\n",
      "        \n",
      "      </span>\n",
      "\n",
      "SuryaInformaticsSolutionsPvt.Ltd.\n",
      "\n",
      "\n"
     ]
    }
   ],
   "metadata": {}
  },
  {
   "cell_type": "code",
   "execution_count": null,
   "source": [],
   "outputs": [],
   "metadata": {}
  },
  {
   "cell_type": "code",
   "execution_count": null,
   "source": [],
   "outputs": [],
   "metadata": {}
  }
 ],
 "metadata": {
  "orig_nbformat": 4,
  "language_info": {
   "name": "python",
   "version": "3.9.6",
   "mimetype": "text/x-python",
   "codemirror_mode": {
    "name": "ipython",
    "version": 3
   },
   "pygments_lexer": "ipython3",
   "nbconvert_exporter": "python",
   "file_extension": ".py"
  },
  "kernelspec": {
   "name": "python3",
   "display_name": "Python 3.9.6 64-bit"
  },
  "interpreter": {
   "hash": "ee5cc6fef2d70a7e71ee3826687cbd150f18158e0b1eef11d4f4f92bb920e304"
  }
 },
 "nbformat": 4,
 "nbformat_minor": 2
}