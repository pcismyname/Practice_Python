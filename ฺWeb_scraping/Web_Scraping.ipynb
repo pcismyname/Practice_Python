{
 "cells": [
  {
   "cell_type": "code",
   "execution_count": 1,
   "source": [
    "from bs4 import BeautifulSoup\r\n",
    "\r\n",
    "with open(\"home.html\", \"r\") as html_file:\r\n",
    "    content = html_file.read()\r\n",
    "    #print(content)\r\n",
    "\r\n",
    "    soup = BeautifulSoup(content, \"lxml\")\r\n",
    "    print(soup.prettify())\r\n"
   ],
   "outputs": [
    {
     "output_type": "stream",
     "name": "stdout",
     "text": [
      "<!DOCTYPE html>\n",
      "<html lang=\"en\">\n",
      " <head>\n",
      "  <title>\n",
      "   Home\n",
      "  </title>\n",
      " </head>\n",
      " <body>\n",
      "  <h1>\n",
      "   Hello, I'm trying to do web scraping\n",
      "  </h1>\n",
      "  <div class=\"card\" id=\"card-python\">\n",
      "   <div class=\"class-header\">\n",
      "    Python\n",
      "   </div>\n",
      "   <div class=\"card-body\">\n",
      "    <h5 class=\"card-body\">\n",
      "     Python for beginner\n",
      "    </h5>\n",
      "    <p class=\"card-text\">\n",
      "     This is just great\n",
      "    </p>\n",
      "    <a class=\"btn btn-primary\" href=\"#\">\n",
      "     Start\n",
      "    </a>\n",
      "   </div>\n",
      "  </div>\n",
      "  <h1>\n",
      "   Hello\n",
      "  </h1>\n",
      "  <div class=\"card\" id=\"card-python\">\n",
      "   <div class=\"class-header\">\n",
      "    Python\n",
      "   </div>\n",
      "   <div class=\"card-body\">\n",
      "    <h5 class=\"card-body\">\n",
      "     Python for beginner\n",
      "    </h5>\n",
      "    <p class=\"card-text\">\n",
      "     This is just great\n",
      "    </p>\n",
      "    <a class=\"btn btn-primary\" href=\"#\">\n",
      "     Start\n",
      "    </a>\n",
      "   </div>\n",
      "  </div>\n",
      " </body>\n",
      "</html>\n"
     ]
    }
   ],
   "metadata": {}
  },
  {
   "cell_type": "code",
   "execution_count": 2,
   "source": [
    "tags = soup.find_all(\"h5\")\r\n",
    "print(tags)\r\n"
   ],
   "outputs": [
    {
     "output_type": "stream",
     "name": "stdout",
     "text": [
      "[<h5 class=\"card-body\">Python for beginner</h5>, <h5 class=\"card-body\">Python for beginner</h5>]\n"
     ]
    }
   ],
   "metadata": {}
  },
  {
   "cell_type": "code",
   "execution_count": 3,
   "source": [
    "course_card = soup.find_all(\"div\", class_=\"card\")\r\n",
    "for course in course_card:\r\n",
    "    course_name = course.h5.text\r\n",
    "    course_price = course\r\n",
    "    \r\n",
    "\r\n",
    "    print(course_name)\r\n",
    "    print(course_price)\r\n"
   ],
   "outputs": [
    {
     "output_type": "stream",
     "name": "stdout",
     "text": [
      "Python for beginner\n",
      "<div class=\"card\" id=\"card-python\">\n",
      "<div class=\"class-header\">\n",
      "                Python\n",
      "            </div>\n",
      "<div class=\"card-body\">\n",
      "<h5 class=\"card-body\">Python for beginner</h5>\n",
      "<p class=\"card-text\">This is just great </p>\n",
      "<a class=\"btn btn-primary\" href=\"#\">Start</a>\n",
      "</div>\n",
      "</div>\n",
      "Python for beginner\n",
      "<div class=\"card\" id=\"card-python\">\n",
      "<div class=\"class-header\">\n",
      "                Python\n",
      "            </div>\n",
      "<div class=\"card-body\">\n",
      "<h5 class=\"card-body\">Python for beginner</h5>\n",
      "<p class=\"card-text\">This is just great </p>\n",
      "<a class=\"btn btn-primary\" href=\"#\">Start</a>\n",
      "</div>\n",
      "</div>\n"
     ]
    }
   ],
   "metadata": {}
  },
  {
   "cell_type": "code",
   "execution_count": 29,
   "source": [
    "import requests\r\n",
    "from bs4 import BeautifulSoup\r\n",
    "\r\n",
    "html_text = requests.get(\"https://www.timesjobs.com/candidate/job-search.html?searchType=personalizedSearch&from=submit&txtKeywords=python&txtLocation=\")\r\n",
    "soup = BeautifulSoup(html_text.text, \"lxml\")\r\n",
    "jobs = soup.find_all(\"li\", class_ = \"clearfix job-bx wht-shd-bx\")\r\n",
    "\r\n",
    "for job in jobs:\r\n",
    "\r\n",
    "    published_date = job.find('span', class_ = 'sim-posted').span.text\r\n",
    "\r\n",
    "    if 'few' in published_date:\r\n",
    "        company_name = job.find(\"h3\", class_ = \"joblist-comp-name\").text.replace(' ', '')\r\n",
    "        skills = job.find(\"span\", class_ = \"srp-skills\").text.replace(' ', '')\r\n",
    "        more_info = job.header.h2.a['href']\r\n",
    "        print(f'Company Name: {company_name.strip()}')\r\n",
    "        print(f'skill : {skills.strip()}')\r\n",
    "        print(f'more info:{more_info}')\r\n",
    "        print(published_date)\r\n",
    "        print('-------------------------------------')\r\n",
    "\r\n",
    "\r\n",
    "\r\n",
    "#print(html_text.text) This is alternative using this with no soup"
   ],
   "outputs": [
    {
     "output_type": "stream",
     "name": "stdout",
     "text": [
      "Company Name: PureTechCodexPrivateLimited\n",
      "skill : rest,python,database,django,debugging,mongodb\n",
      "more info:<a href=\"https://www.timesjobs.com/job-detail/python-pure-tech-codex-private-limited-pune-2-to-3-yrs-jobid-OHwfF0d6EhNzpSvf__PLUS__uAgZw==&amp;source=srp\" onclick=\"logViewUSBT('view','66840090','rest  ,  python  ,  database  ,  django  ,  debugging  ,  mongodb','Pune','2 - 3','IT Software : Software Products &amp; Services','2' )\" target=\"_blank\">\n",
      "<strong class=\"blkclor\">Python</strong></a>\n",
      "Posted few days ago\n",
      "-------------------------------------\n",
      "Company Name: ilabztechnologyltd\n",
      "skill : python,css,javascript,html,softwaredeveloper\n",
      "more info:<a href=\"https://www.timesjobs.com/job-detail/python-ilabz-technology-ltd-chennai-bengaluru-bangalore-5-to-8-yrs-jobid-dG4emnqoJRpzpSvf__PLUS__uAgZw==&amp;source=srp\" onclick=\"logViewUSBT('view','67255470','python  ,  css  ,  javascript  ,  html  ,  software developer','Chennai,  Bengaluru / Bangalore','5 - 8','IT Software : Software Products &amp; Services','3' )\" target=\"_blank\">\n",
      "<strong class=\"blkclor\">Python</strong></a>\n",
      "Posted few days ago\n",
      "-------------------------------------\n",
      "Company Name: GeminiSolutions\n",
      "skill : python,mobile,svn,nosql,pythonscripting,git,api,sqldatabase\n",
      "more info:<a href=\"https://www.timesjobs.com/job-detail/qa-python-python-sdet-gemini-solutions-gurgaon-4-to-7-yrs-jobid-eGMLzwOk2QlzpSvf__PLUS__uAgZw==&amp;source=srp\" onclick=\"logViewUSBT('view','65999563','python  ,  mobile  ,  svn  ,  nosql  ,  python scripting  ,  git  ,  api  ,  sql database','Gurgaon','4 - 7','IT Software : Software Products &amp; Services','4' )\" target=\"_blank\">\n",
      "      QA <strong class=\"blkclor\">Python</strong> / <strong class=\"blkclor\">Python</strong> SDET</a>\n",
      "Posted few days ago\n",
      "-------------------------------------\n",
      "Company Name: SEVENCONSULTANCY\n",
      "skill : rest,python,storage\n",
      "more info:<a href=\"https://www.timesjobs.com/job-detail/python-developer-seven-consultancy-navi-mumbai-mumbai-thane-1-to-3-yrs-jobid-LlaMDTTxcsFzpSvf__PLUS__uAgZw==&amp;source=srp\" onclick=\"logViewUSBT('view','67360335','rest  ,  python  ,  storage','Navi Mumbai,  Mumbai,  Thane','1 - 3','IT Software : Software Products &amp; Services','12' )\" target=\"_blank\">\n",
      "<strong class=\"blkclor\">Python</strong> Developer</a>\n",
      "Posted few days ago\n",
      "-------------------------------------\n",
      "Company Name: ValueLabs\n",
      "skill : python,database,shellscripting,perl,unix,sql\n",
      "more info:<a href=\"https://www.timesjobs.com/job-detail/python-developer-valuelabs-hyderabad-secunderabad-7-to-10-yrs-jobid-ocUK970ERO9zpSvf__PLUS__uAgZw==&amp;source=srp\" onclick=\"logViewUSBT('view','67203291','python  ,  database  ,  shell scripting  ,  perl  ,  unix  ,  sql','Hyderabad/Secunderabad','7 - 10','IT Software : Software Products &amp; Services','15' )\" target=\"_blank\">\n",
      "<strong class=\"blkclor\">Python</strong> Developer</a>\n",
      "Posted few days ago\n",
      "-------------------------------------\n",
      "Company Name: TandAHRSolutions\n",
      "skill : Djangoframework,PythonDeveloper,corepython\n",
      "more info:<a href=\"https://www.timesjobs.com/job-detail/python-developer-tanda-hr-solutions-mohali-3-to-5-yrs-jobid-GTT0grHZP1tzpSvf__PLUS__uAgZw==&amp;source=srp\" onclick=\"logViewUSBT('view','65463829','Django framework  ,  Python Developer  ,  core python','Mohali','3 - 5','IT Software : Software Products &amp; Services','16' )\" target=\"_blank\">\n",
      "<strong class=\"blkclor\">Python</strong> Developer</a>\n",
      "Posted few days ago\n",
      "-------------------------------------\n",
      "Company Name: eastindiasecuritiesltd.\n",
      "skill : python,hadoop,machinelearning\n",
      "more info:<a href=\"https://www.timesjobs.com/job-detail/python-engineer-east-india-securities-ltd-kolkata-2-to-5-yrs-jobid-KEkE19WqPbFzpSvf__PLUS__uAgZw==&amp;source=srp\" onclick=\"logViewUSBT('view','66865756','python  ,  hadoop  ,  machine learning','Kolkata','2 - 5','IT Software : Software Products &amp; Services','17' )\" target=\"_blank\">\n",
      "<strong class=\"blkclor\">Python</strong> Engineer</a>\n",
      "Posted few days ago\n",
      "-------------------------------------\n",
      "Company Name: YMGlobalTechnologiesPteLtd\n",
      "skill : python,apache,machinelearning\n",
      "more info:<a href=\"https://www.timesjobs.com/job-detail/python-developer-ym-global-technologies-pte-ltd-singapore-4-to-7-yrs-jobid-bRMEk1dtdLBzpSvf__PLUS__uAgZw==&amp;source=srp\" onclick=\"logViewUSBT('view','66866763','python  ,  apache  ,  machine learning','Singapore','4 - 7','IT Software : Software Products &amp; Services','18' )\" target=\"_blank\">\n",
      "<strong class=\"blkclor\">Python</strong> Developer</a>\n",
      "Posted few days ago\n",
      "-------------------------------------\n",
      "Company Name: APPLYCUPHIRINGSOLUTIONSLLP\n",
      "skill : python,Django,ObjectRelationalMapper\n",
      "more info:<a href=\"https://www.timesjobs.com/job-detail/python-developer-applycup-hiring-solutions-llp-surat-3-to-5-yrs-jobid-uj9JLhqjw6dzpSvf__PLUS__uAgZw==&amp;source=srp\" onclick=\"logViewUSBT('view','65600739','python   ,  Django  ,   Object Relational Mapper','Surat','3 - 5','IT Software : Software Products &amp; Services','23' )\" target=\"_blank\">\n",
      "<strong class=\"blkclor\">Python</strong> Developer</a>\n",
      "Posted few days ago\n",
      "-------------------------------------\n",
      "Company Name: RouteMobileLimited\n",
      "skill : python,django,postgresql,mysql,docker\n",
      "more info:<a href=\"https://www.timesjobs.com/job-detail/python-developer-route-mobile-limited-mumbai-2-to-5-yrs-jobid-mEHU__SLASH__0ZA__SLASH__uhzpSvf__PLUS__uAgZw==&amp;source=srp\" onclick=\"logViewUSBT('view','67023984','python  ,  django  ,  postgresql  ,  mysql  ,  docker','Mumbai','2 - 5','IT Software : Software Products &amp; Services','24' )\" target=\"_blank\">\n",
      "<strong class=\"blkclor\">Python</strong> Developer</a>\n",
      "Posted few days ago\n",
      "-------------------------------------\n"
     ]
    }
   ],
   "metadata": {}
  },
  {
   "cell_type": "code",
   "execution_count": null,
   "source": [],
   "outputs": [],
   "metadata": {}
  },
  {
   "cell_type": "code",
   "execution_count": null,
   "source": [],
   "outputs": [],
   "metadata": {}
  }
 ],
 "metadata": {
  "orig_nbformat": 4,
  "language_info": {
   "name": "python",
   "version": "3.9.6",
   "mimetype": "text/x-python",
   "codemirror_mode": {
    "name": "ipython",
    "version": 3
   },
   "pygments_lexer": "ipython3",
   "nbconvert_exporter": "python",
   "file_extension": ".py"
  },
  "kernelspec": {
   "name": "python3",
   "display_name": "Python 3.9.6 64-bit"
  },
  "interpreter": {
   "hash": "ee5cc6fef2d70a7e71ee3826687cbd150f18158e0b1eef11d4f4f92bb920e304"
  }
 },
 "nbformat": 4,
 "nbformat_minor": 2
}