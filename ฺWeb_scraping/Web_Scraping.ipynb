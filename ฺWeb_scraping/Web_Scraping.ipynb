{
 "cells": [
  {
   "cell_type": "code",
   "execution_count": null,
   "source": [
    "from bs4 import BeautifulSoup\r\n",
    "\r\n",
    "with open(\"home.html\", \"r\") as html_file:\r\n",
    "    content = html_file.read()\r\n",
    "    #print(content)\r\n",
    "\r\n",
    "    soup = BeautifulSoup(content, \"lxml\")\r\n",
    "    print(soup.prettify())\r\n"
   ],
   "outputs": [],
   "metadata": {}
  },
  {
   "cell_type": "code",
   "execution_count": 37,
   "source": [
    "tags = soup.find_all(\"h5\")\r\n",
    "print(tags)\r\n"
   ],
   "outputs": [
    {
     "output_type": "stream",
     "name": "stdout",
     "text": [
      "[<h5 class=\"card-body\">Python for beginner</h5>, <h5 class=\"card-body\">Python for beginner</h5>]\n"
     ]
    }
   ],
   "metadata": {}
  },
  {
   "cell_type": "code",
   "execution_count": 8,
   "source": [
    "course_card = soup.find_all(\"div\", class_=\"card\")\r\n",
    "for course in course_card:\r\n",
    "    course_name = course.h5.text\r\n",
    "    course_price = course\r\n",
    "    \r\n",
    "\r\n",
    "    print(course_name)\r\n",
    "    print(course_price)\r\n"
   ],
   "outputs": [
    {
     "output_type": "stream",
     "name": "stdout",
     "text": [
      "Python for beginner\n",
      "<a class=\"btn btn-primary\" href=\"#\">Start</a>\n",
      "Python for beginner\n",
      "<a class=\"btn btn-primary\" href=\"#\">Start</a>\n"
     ]
    }
   ],
   "metadata": {}
  },
  {
   "cell_type": "code",
   "execution_count": 8,
   "source": [
    "import requests\r\n",
    "from bs4 import BeautifulSoup\r\n",
    "\r\n",
    "html_text = requests.get(\"https://www.timesjobs.com/candidate/job-search.html?searchType=personalizedSearch&from=submit&txtKeywords=python&txtLocation=\")\r\n",
    "soup = BeautifulSoup(html_text.text, \"lxml\")\r\n",
    "jobs = soup.find(\"li\", class_ = \"clearfix job-bx wht-shd-bx\")\r\n",
    "company_name = jobs.find(\"h3\", class_ = \"joblist-comp-name\").text.replace(' ', '')\r\n",
    "print(company_name)\r\n",
    "\r\n",
    "#print(html_text.text) This is alternative using this with no soup"
   ],
   "outputs": [
    {
     "output_type": "stream",
     "name": "stdout",
     "text": [
      "<h3 class=\"joblist-comp-name\">\n",
      "    Pure Tech Codex Private Limited\n",
      "    \n",
      "    </h3>\n"
     ]
    }
   ],
   "metadata": {}
  }
 ],
 "metadata": {
  "orig_nbformat": 4,
  "language_info": {
   "name": "python",
   "version": "3.9.6",
   "mimetype": "text/x-python",
   "codemirror_mode": {
    "name": "ipython",
    "version": 3
   },
   "pygments_lexer": "ipython3",
   "nbconvert_exporter": "python",
   "file_extension": ".py"
  },
  "kernelspec": {
   "name": "python3",
   "display_name": "Python 3.9.6 64-bit"
  },
  "interpreter": {
   "hash": "ee5cc6fef2d70a7e71ee3826687cbd150f18158e0b1eef11d4f4f92bb920e304"
  }
 },
 "nbformat": 4,
 "nbformat_minor": 2
}