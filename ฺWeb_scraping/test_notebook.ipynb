{
 "cells": [
  {
   "cell_type": "code",
   "execution_count": null,
   "source": [
    "print(\"Hello\")"
   ],
   "outputs": [],
   "metadata": {}
  },
  {
   "cell_type": "code",
   "execution_count": null,
   "source": [
    "import requests\r\n",
    "url = 'http://github.com'\r\n",
    "r = requests.get(url)\r\n",
    "r_html = r.text\r\n",
    "print(r_html)\r\n"
   ],
   "outputs": [],
   "metadata": {}
  },
  {
   "cell_type": "code",
   "execution_count": null,
   "source": [
    "# library & dataset\r\n",
    "import seaborn as sns\r\n",
    "df = sns.load_dataset('iris')\r\n",
    "\r\n",
    "# Plot the histogram thanks to the distplot function\r\n",
    "sns.distplot( a=df[\"sepal_length\"], hist=True, kde=False, rug=False )"
   ],
   "outputs": [],
   "metadata": {}
  },
  {
   "cell_type": "code",
   "execution_count": 18,
   "source": [
    "# import matplotlib\r\n",
    "import matplotlib.pyplot as plt\r\n",
    "import pandas as pd\r\n",
    "\r\n",
    "data = pd.read_csv('https://raw.githubusercontent.com/holtzy/The-Python-Graph-Gallery/master/static/data/gapminderData.csv')\r\n",
    "\r\n",
    "# Check the first 2 rows\r\n",
    "data.head(2)\r\n",
    "\r\n",
    "# And I need to transform my categorical column (continent) in a numerical value group1->1, group2->2...\r\n",
    "data['continent']=pd.Categorical(data['continent'])\r\n",
    "\r\n",
    "# Set the figure size\r\n",
    "plt.figure(figsize=(10, 10))\r\n",
    "\r\n",
    "# Subset of the data for year 1952\r\n",
    "data1952 = data[ data.year == 1952 ]\r\n",
    "\r\n",
    "# Scatterplot\r\n",
    "plt.scatter(\r\n",
    "    x = data1952['lifeExp'], \r\n",
    "    y = data1952['gdpPercap'], \r\n",
    "    s=data1952['pop']/50000, \r\n",
    "    c=data1952['continent'].cat.codes, \r\n",
    "    cmap=\"Accent\", \r\n",
    "    alpha=0.6, \r\n",
    "    edgecolors=\"white\", \r\n",
    "    linewidth=2);\r\n",
    " \r\n",
    "# Add titles (main and on axis)\r\n",
    "plt.yscale('log')\r\n",
    "plt.xlabel(\"Life Expectancy\")\r\n",
    "plt.ylabel(\"GDP per Capita\")\r\n",
    "plt.title(\"Year 1952\")\r\n",
    "plt.ylim(0,50000)\r\n",
    "plt.xlim(30, 75);"
   ],
   "outputs": [
    {
     "output_type": "error",
     "ename": "NameError",
     "evalue": "name 'data' is not defined",
     "traceback": [
      "\u001b[1;31m---------------------------------------------------------------------------\u001b[0m",
      "\u001b[1;31mNameError\u001b[0m                                 Traceback (most recent call last)",
      "\u001b[1;32m~\\AppData\\Local\\Temp/ipykernel_8184/928832609.py\u001b[0m in \u001b[0;36m<module>\u001b[1;34m\u001b[0m\n\u001b[0;32m      5\u001b[0m \u001b[1;33m\u001b[0m\u001b[0m\n\u001b[0;32m      6\u001b[0m \u001b[1;31m# And I need to transform my categorical column (continent) in a numerical value group1->1, group2->2...\u001b[0m\u001b[1;33m\u001b[0m\u001b[1;33m\u001b[0m\u001b[1;33m\u001b[0m\u001b[0m\n\u001b[1;32m----> 7\u001b[1;33m \u001b[0mdata\u001b[0m\u001b[1;33m[\u001b[0m\u001b[1;34m'continent'\u001b[0m\u001b[1;33m]\u001b[0m\u001b[1;33m=\u001b[0m\u001b[0mpd\u001b[0m\u001b[1;33m.\u001b[0m\u001b[0mCategorical\u001b[0m\u001b[1;33m(\u001b[0m\u001b[0mdata\u001b[0m\u001b[1;33m[\u001b[0m\u001b[1;34m'continent'\u001b[0m\u001b[1;33m]\u001b[0m\u001b[1;33m)\u001b[0m\u001b[1;33m\u001b[0m\u001b[1;33m\u001b[0m\u001b[0m\n\u001b[0m\u001b[0;32m      8\u001b[0m \u001b[1;33m\u001b[0m\u001b[0m\n\u001b[0;32m      9\u001b[0m \u001b[1;31m# Set the figure size\u001b[0m\u001b[1;33m\u001b[0m\u001b[1;33m\u001b[0m\u001b[1;33m\u001b[0m\u001b[0m\n",
      "\u001b[1;31mNameError\u001b[0m: name 'data' is not defined"
     ]
    }
   ],
   "metadata": {}
  }
 ],
 "metadata": {
  "orig_nbformat": 4,
  "language_info": {
   "name": "python",
   "version": "3.9.6",
   "mimetype": "text/x-python",
   "codemirror_mode": {
    "name": "ipython",
    "version": 3
   },
   "pygments_lexer": "ipython3",
   "nbconvert_exporter": "python",
   "file_extension": ".py"
  },
  "kernelspec": {
   "name": "python3",
   "display_name": "Python 3.9.6 64-bit"
  },
  "interpreter": {
   "hash": "ee5cc6fef2d70a7e71ee3826687cbd150f18158e0b1eef11d4f4f92bb920e304"
  }
 },
 "nbformat": 4,
 "nbformat_minor": 2
}