{
  "nbformat": 4,
  "nbformat_minor": 0,
  "metadata": {
    "colab": {
      "provenance": [],
      "authorship_tag": "ABX9TyNYvayTGUkXnXS7Dy+G+L+e",
      "include_colab_link": true
    },
    "kernelspec": {
      "name": "python3",
      "display_name": "Python 3"
    },
    "language_info": {
      "name": "python"
    }
  },
  "cells": [
    {
      "cell_type": "markdown",
      "metadata": {
        "id": "view-in-github",
        "colab_type": "text"
      },
      "source": [
        "<a href=\"https://colab.research.google.com/github/pcismyname/Practice_Python/blob/main/DS%26ALGO_1.ipynb\" target=\"_parent\"><img src=\"https://colab.research.google.com/assets/colab-badge.svg\" alt=\"Open In Colab\"/></a>"
      ]
    },
    {
      "cell_type": "code",
      "source": [
        "#Big-O ต่างๆ\n",
        "#Set Array List\n",
        "#Recursion\n",
        "#Stack"
      ],
      "metadata": {
        "id": "V_eUH8Ys_6ag"
      },
      "execution_count": null,
      "outputs": []
    },
    {
      "cell_type": "code",
      "execution_count": null,
      "metadata": {
        "id": "tYgSpJZxg26l"
      },
      "outputs": [],
      "source": [
        "#https://www.bigocheatsheet.com/\n",
        "#Big-O notation\n",
        "#for algorithm efficiency\n",
        "#O is growth rate\n",
        "#n is data\n",
        "\n",
        "#O(1)\n",
        "#O(logn)\n",
        "#O(n)\n",
        "#O(nlogn)\n",
        "#O(n^2)"
      ]
    },
    {
      "cell_type": "code",
      "source": [
        "def genNum():\n",
        "  len = 1000000\n",
        "  lst = []\n",
        "  for i in range(len):\n",
        "    lst.append(i)\n",
        "  return lst"
      ],
      "metadata": {
        "id": "gkTpbvEoTbhM"
      },
      "execution_count": null,
      "outputs": []
    },
    {
      "cell_type": "code",
      "source": [
        "import time\n",
        "global lst \n",
        "lst = genNum()\n"
      ],
      "metadata": {
        "id": "FIM3jfhBcdbT"
      },
      "execution_count": null,
      "outputs": []
    },
    {
      "cell_type": "code",
      "source": [
        "#linear search O(n)\n",
        "\n",
        "def findX(lst, x):\n",
        "  for num in lst:\n",
        "    if num == x:\n",
        "      return lst.index(x)\n",
        "  return -1\n",
        "\n",
        "\n",
        "start = time.time()\n",
        "print(findX(lst,900000))\n",
        "print(f'time {time.time()-start}')\n"
      ],
      "metadata": {
        "colab": {
          "base_uri": "https://localhost:8080/"
        },
        "id": "p7luecz1AFP0",
        "outputId": "38a51f48-135a-4375-95b4-1a4b442244b3"
      },
      "execution_count": null,
      "outputs": [
        {
          "output_type": "stream",
          "name": "stdout",
          "text": [
            "900000\n",
            "time 0.039891719818115234\n"
          ]
        }
      ]
    },
    {
      "cell_type": "code",
      "source": [
        "#list must be sort\n",
        "# https://www.geeksforgeeks.org/binary-search/\n",
        "def binary(lst , x):\n",
        "  low = 0\n",
        "  high = len(lst)-1\n",
        "  while low <= high:\n",
        "    mid = (low + high)//2\n",
        "    if x < lst[mid]:\n",
        "      high = mid\n",
        "    elif x > lst[mid]:\n",
        "      low = mid\n",
        "    else: \n",
        "      return mid\n",
        "  return 0\n",
        "\n",
        "start = time.time()\n",
        "print(binary(lst,900000))\n",
        "print(f'time {time.time()-start}')\n",
        "\n"
      ],
      "metadata": {
        "colab": {
          "base_uri": "https://localhost:8080/"
        },
        "id": "gzC_75k1aVTq",
        "outputId": "23b92718-07c3-4bcf-a33c-98ecc55c4bb9"
      },
      "execution_count": null,
      "outputs": [
        {
          "output_type": "stream",
          "name": "stdout",
          "text": [
            "900000\n",
            "time 0.000148773193359375\n"
          ]
        }
      ]
    },
    {
      "cell_type": "code",
      "source": [
        "#Bubble Sort O(n^2)\n",
        "lst = [9,8,7,6,5,4,3,2,1]\n",
        "print(lst)\n",
        "n = len(lst)\n",
        "for i in range(n-1):\n",
        "  for j in range(n-1-i):\n",
        "    if lst[j] > lst[j+1]:\n",
        "      lst[j] , lst[j+1] = lst[j+1] ,lst[j]\n",
        "    #print(lst)\n",
        "print(\"Output\")\n",
        "print(lst)"
      ],
      "metadata": {
        "colab": {
          "base_uri": "https://localhost:8080/"
        },
        "id": "JqbiVOBwAFGy",
        "outputId": "93d21380-3079-4c93-fd56-8c8adbdad865"
      },
      "execution_count": null,
      "outputs": [
        {
          "output_type": "stream",
          "name": "stdout",
          "text": [
            "[9, 8, 7, 6, 5, 4, 3, 2, 1]\n",
            "Output\n",
            "[1, 2, 3, 4, 5, 6, 7, 8, 9]\n"
          ]
        }
      ]
    },
    {
      "cell_type": "code",
      "source": [
        "#Data structure\n",
        "#Array\n",
        "#Set\n",
        "#read search insert delete"
      ],
      "metadata": {
        "id": "S93nTTsdjcH_"
      },
      "execution_count": null,
      "outputs": []
    },
    {
      "cell_type": "code",
      "source": [
        "#Array\n",
        "\n",
        "#read  O(1)\n",
        "#search O(n)\n",
        "#insert O(n)\n",
        "#delete O(n)\n",
        "\n",
        "array = [5,3,3,5,6,7,8,9]\n",
        "\n",
        "#read\n",
        "print(array[0])\n",
        "\n",
        "#search\n",
        "print(f\"6 is in position {findX(array,6)}\")\n",
        "\n",
        "#insert\n",
        "array.insert(1,100)\n",
        "print(array)\n",
        "\n"
      ],
      "metadata": {
        "colab": {
          "base_uri": "https://localhost:8080/"
        },
        "id": "0MyhSx1aqDkE",
        "outputId": "8e8b351e-731a-4ba7-d21a-812d6869bd2a"
      },
      "execution_count": null,
      "outputs": [
        {
          "output_type": "stream",
          "name": "stdout",
          "text": [
            "5\n",
            "6 is in position 4\n",
            "[5, 100, 3, 3, 5, 6, 7, 8, 9]\n"
          ]
        }
      ]
    },
    {
      "cell_type": "code",
      "source": [
        "#set\n",
        "\n",
        "#read  O(1)\n",
        "#search O(n)\n",
        "#insert O(n) but more than array (check if there is duplicate data)\n",
        "#delete O(n)\n",
        "\n",
        "set_1 = {1,2,2,2,2,3,3}\n",
        "print(set_1)\n",
        "print(len(set_1))"
      ],
      "metadata": {
        "id": "bP7fxdvrwF8r",
        "colab": {
          "base_uri": "https://localhost:8080/"
        },
        "outputId": "fd83af9f-4ec7-47f7-8651-f8083b4ef1f2"
      },
      "execution_count": 3,
      "outputs": [
        {
          "output_type": "stream",
          "name": "stdout",
          "text": [
            "{1, 2, 3}\n",
            "3\n"
          ]
        }
      ]
    },
    {
      "cell_type": "code",
      "source": [
        "#Linked List\n",
        "\n",
        "#read  O(n)\n",
        "#search O(n)\n",
        "#insert O(1)\n",
        "#delete O(1)"
      ],
      "metadata": {
        "id": "7-cg0v_zwFzW"
      },
      "execution_count": null,
      "outputs": []
    },
    {
      "cell_type": "code",
      "source": [
        "class Node:\n",
        "   def __init__(self, dataval=None):\n",
        "      self.dataval = dataval\n",
        "      self.nextval = None\n",
        "class SLinkedList:\n",
        "   def __init__(self):\n",
        "      self.headval = None\n",
        "\n",
        "# Function to add newnode\n",
        "   def AtEnd(self, newdata):\n",
        "      NewNode = Node(newdata)\n",
        "      if self.headval is None:\n",
        "         self.headval = NewNode\n",
        "         return\n",
        "      laste = self.headval\n",
        "      while(laste.nextval):\n",
        "         laste = laste.nextval\n",
        "      laste.nextval=NewNode\n",
        "\n",
        "  # Function to remove node\n",
        "   def RemoveNode(self, Removekey):\n",
        "      HeadVal = self.head\n",
        "         \n",
        "      if (HeadVal is not None):\n",
        "         if (HeadVal.data == Removekey):\n",
        "            self.head = HeadVal.next\n",
        "            HeadVal = None\n",
        "            return\n",
        "      while (HeadVal is not None):\n",
        "         if HeadVal.data == Removekey:\n",
        "            break\n",
        "         prev = HeadVal\n",
        "         HeadVal = HeadVal.next\n",
        "\n",
        "      if (HeadVal == None):\n",
        "         return\n",
        "\n",
        "      prev.next = HeadVal.next\n",
        "      HeadVal = None\n",
        "# Print the linked list\n",
        "   def listprint(self):\n",
        "      printval = self.headval\n",
        "      while printval is not None:\n",
        "         print (printval.dataval)\n",
        "         printval = printval.nextval\n",
        "\n",
        "list = SLinkedList()\n",
        "list.headval = Node(\"Mon\")\n",
        "e2 = Node(\"Tue\")\n",
        "e3 = Node(\"Wed\")\n",
        "\n",
        "list.headval.nextval = e2\n",
        "e2.nextval = e3\n",
        "\n",
        "list.AtEnd(\"Thu\")\n",
        "list.AtEnd(\"Fri\")\n",
        "list.AtEnd(\"Sat\")\n",
        "list.listprint()"
      ],
      "metadata": {
        "colab": {
          "base_uri": "https://localhost:8080/"
        },
        "id": "Rxe57GvRztyH",
        "outputId": "94b088d0-f536-47b7-eee1-4ff298213029"
      },
      "execution_count": 14,
      "outputs": [
        {
          "output_type": "stream",
          "name": "stdout",
          "text": [
            "Mon\n",
            "Tue\n",
            "Wed\n",
            "Thu\n",
            "Fri\n",
            "Sat\n"
          ]
        }
      ]
    },
    {
      "cell_type": "code",
      "source": [
        "#https://towardsdatascience.com/linked-lists-vs-arrays-78746f983267\n",
        "#Array vs Linked List\n",
        "#ข้อดี ของ array คือ สามารถอ่านข้อมูลได้รวดเร็ว{O(1)} เพราะว่าสามารถเข้าถึงข้อมูลได้ดวย index"
      ],
      "metadata": {
        "id": "OLXJilCI6Fe9"
      },
      "execution_count": null,
      "outputs": []
    }
  ]
}